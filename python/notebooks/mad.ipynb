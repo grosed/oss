{
 "cells": [
  {
   "cell_type": "code",
   "execution_count": 1,
   "id": "3980e40e",
   "metadata": {},
   "outputs": [
    {
     "name": "stdout",
     "output_type": "stream",
     "text": [
      "Requirement already satisfied: scipy in /home/grosedj/python-envs/mad/env/lib/python3.9/site-packages (1.6.2)\n",
      "Requirement already satisfied: numpy<1.23.0,>=1.16.5 in /home/grosedj/python-envs/mad/env/lib/python3.9/site-packages (from scipy) (1.20.2)\n",
      "\u001b[33mWARNING: You are using pip version 20.2.3; however, version 21.1.1 is available.\n",
      "You should consider upgrading via the '/home/grosedj/python-envs/mad/env/bin/python -m pip install --upgrade pip' command.\u001b[0m\n",
      "Requirement already satisfied: matplotlib in /home/grosedj/python-envs/mad/env/lib/python3.9/site-packages (3.4.1)\n",
      "Requirement already satisfied: numpy>=1.16 in /home/grosedj/python-envs/mad/env/lib/python3.9/site-packages (from matplotlib) (1.20.2)\n",
      "Requirement already satisfied: kiwisolver>=1.0.1 in /home/grosedj/python-envs/mad/env/lib/python3.9/site-packages (from matplotlib) (1.3.1)\n",
      "Requirement already satisfied: python-dateutil>=2.7 in /home/grosedj/python-envs/mad/env/lib/python3.9/site-packages (from matplotlib) (2.8.1)\n",
      "Requirement already satisfied: pillow>=6.2.0 in /home/grosedj/python-envs/mad/env/lib/python3.9/site-packages (from matplotlib) (8.2.0)\n",
      "Requirement already satisfied: cycler>=0.10 in /home/grosedj/python-envs/mad/env/lib/python3.9/site-packages (from matplotlib) (0.10.0)\n",
      "Requirement already satisfied: pyparsing>=2.2.1 in /home/grosedj/python-envs/mad/env/lib/python3.9/site-packages (from matplotlib) (2.4.7)\n",
      "Requirement already satisfied: six>=1.5 in /home/grosedj/python-envs/mad/env/lib/python3.9/site-packages (from python-dateutil>=2.7->matplotlib) (1.15.0)\n",
      "\u001b[33mWARNING: You are using pip version 20.2.3; however, version 21.1.1 is available.\n",
      "You should consider upgrading via the '/home/grosedj/python-envs/mad/env/bin/python -m pip install --upgrade pip' command.\u001b[0m\n",
      "Requirement already satisfied: sortedcontainers in /home/grosedj/python-envs/mad/env/lib/python3.9/site-packages (2.3.0)\n",
      "\u001b[33mWARNING: You are using pip version 20.2.3; however, version 21.1.1 is available.\n",
      "You should consider upgrading via the '/home/grosedj/python-envs/mad/env/bin/python -m pip install --upgrade pip' command.\u001b[0m\n"
     ]
    }
   ],
   "source": [
    "!python -m pip install scipy\n",
    "!python -m pip install matplotlib\n",
    "!python -m pip install sortedcontainers"
   ]
  },
  {
   "cell_type": "code",
   "execution_count": 55,
   "id": "ecb39041",
   "metadata": {},
   "outputs": [],
   "source": [
    "from random import random\n",
    "from random import seed\n",
    "from scipy.stats import median_abs_deviation\n",
    "from sortedcontainers import SortedList\n",
    "from bisect import bisect_right as br\n",
    "from math import floor,ceil,sqrt\n",
    "from statistics import median,mean,variance\n",
    "import time\n",
    "import matplotlib.pyplot as plt\n",
    "from collections import deque\n",
    "\n"
   ]
  },
  {
   "cell_type": "code",
   "execution_count": 2,
   "id": "b2089d7c",
   "metadata": {},
   "outputs": [
    {
     "name": "stdout",
     "output_type": "stream",
     "text": [
      "[]\n"
     ]
    }
   ],
   "source": [
    "\n",
    "def mad(T) :\n",
    "    if len(T) == 1 :\n",
    "        return 0\n",
    "    mu = (T[ceil(len(T)/2) - 1] + T[floor(len(T)/2)])/2\n",
    "    a = 0\n",
    "    b = floor(len(T)/2) - 1\n",
    "    c = ceil(len(T)/2)\n",
    "    d = len(T) - 1  \n",
    "   \n",
    "    def bisect(T,Ix,Iy,mu) :\n",
    "        a,b = Ix\n",
    "        c,d = Iy\n",
    "        if b - a < 2 :\n",
    "            if len(T) % 2 == 0 :\n",
    "                return (max(mu-T[b],T[c]-mu) + min(mu-T[a],T[d]-mu))/2\n",
    "            else :\n",
    "                return min(max(mu-T[b],T[c]-mu),min(mu-T[a],T[d]-mu))\n",
    "        (a,b) = (a + floor((b-a)/2), a + ceil((b-a)/2)) \n",
    "        (c,d) = (c + floor((d-c)/2), c + ceil((d-c)/2))\n",
    "        if 4*mu > T[a] + T[b] + T[c] + T[d] :\n",
    "            Ix = (a,Ix[1])\n",
    "            Iy = (c,Iy[1])\n",
    "        else :\n",
    "            Ix = (Ix[0],b)\n",
    "            Iy = (Iy[0],d)\n",
    "        return bisect(T,Ix,Iy,mu)\n",
    "    return bisect(T,(a,b),(c,d),mu)\n",
    "\n",
    "diff = []\n",
    "for i in range(200) :\n",
    "    T = SortedList([random() for j in range(5001)])\n",
    "    diff.append(mad(T)- median_abs_deviation(T))\n",
    "\n",
    "diff = [d for d in diff if d != 0]\n",
    "\n",
    "print(diff)\n",
    "\n",
    "\n",
    "\n",
    "\n",
    "\n",
    "\n",
    "\n",
    "\n"
   ]
  },
  {
   "cell_type": "code",
   "execution_count": 73,
   "id": "d97152aa",
   "metadata": {},
   "outputs": [
    {
     "name": "stdout",
     "output_type": "stream",
     "text": [
      "15.035826153995004\n"
     ]
    }
   ],
   "source": [
    "def window(methods,wsize) :\n",
    "    S = {\"methods\" : methods,\n",
    "        \"wsize\" : wsize,\n",
    "        \"OST\" : SortedList([]),\n",
    "        \"D\" : deque([],maxlen=wsize+1),\n",
    "        \"Sx\" : 0.0,\n",
    "        \"Sxx\" : 0.0}\n",
    "    for method in methods :\n",
    "        S[method] = method\n",
    "    return S\n",
    "\n",
    "def winmad(S) :\n",
    "    return mad(S[\"OST\"])\n",
    "\n",
    "def winmax(S) : \n",
    "    return S[\"OST\"][(len(S[\"OST\"])-1)]\n",
    "\n",
    "def winmin(S) : \n",
    "    return S[\"OST\"][0]\n",
    "\n",
    "def winmean(S) :\n",
    "    if len(S[\"D\"]) == 1 :\n",
    "        return S[\"D\"][0]\n",
    "    if len(S[\"D\"]) <= S[\"wsize\"] :\n",
    "        return (S[winmean]*(len(S[\"D\"])-1) + S[\"D\"][len(S[\"D\"])-1])/len(S[\"D\"]) \n",
    "    return(S[winmean]*S[\"wsize\"] + S[\"D\"][len(S[\"D\"])-1] - S[\"D\"][0])/S[\"wsize\"]\n",
    "\n",
    "def winmedian(S) :\n",
    "    return (S[\"OST\"][ceil(len(S[\"OST\"])/2) - 1] + S[\"OST\"][floor(len(S[\"OST\"])/2)])/2\n",
    "\n",
    "def winvar(S) :\n",
    "    n = len(S[\"D\"])\n",
    "    if n == 1 :\n",
    "        return 0\n",
    "    v = (n*S[\"Sxx\"] - S[\"Sx\"]*S[\"Sx\"])/n/(n-1)\n",
    "    if v < 0.0 :\n",
    "        v = 0.0\n",
    "    return v\n",
    "\n",
    "\n",
    "def update(S,x) :\n",
    "    S[\"D\"].append(x)\n",
    "    S[\"OST\"].add(x)\n",
    "    S[\"Sx\"] = S[\"Sx\"] + x\n",
    "    S[\"Sxx\"] = S[\"Sxx\"] + x*x\n",
    "    if len(S[\"D\"]) == S[\"wsize\"]+1 :\n",
    "        S[\"OST\"].remove(S[\"D\"][0])\n",
    "        S[\"Sx\"] = S[\"Sx\"] - S[\"D\"][0]\n",
    "        S[\"Sxx\"] = S[\"Sxx\"] - S[\"D\"][0]*S[\"D\"][0]\n",
    "    for method in S[\"methods\"] :\n",
    "        S[method] = method(S)\n",
    "    return S\n",
    "\n",
    "# w = window([winmad,winmax,winmin,winmean,winmedian,winvar],2000)\n",
    "n = 16000\n",
    "k = 50000\n",
    "w = window([winmad],n)\n",
    "\n",
    " \n",
    "seed(0)\n",
    "x = [random() for i in range(n+k)]\n",
    "start_time = time.perf_counter()\n",
    "for r in x :\n",
    "    w = update(w,r)\n",
    "end_time = time.perf_counter()\n",
    "print(end_time-start_time)\n",
    "#print(w[winmedian],w[winmad],w[winmean],w[winvar],w[winmax],w[winmax],w[winmin])\n",
    "#x = x[-2000:]\n",
    "#print(median(x),median_abs_deviation(x),mean(x),variance(x),max(x),min(x))\n"
   ]
  },
  {
   "cell_type": "code",
   "execution_count": 77,
   "id": "70e61cbb",
   "metadata": {},
   "outputs": [
    {
     "data": {
      "text/plain": [
       "[<matplotlib.lines.Line2D at 0x7f224f491f10>]"
      ]
     },
     "execution_count": 77,
     "metadata": {},
     "output_type": "execute_result"
    },
    {
     "data": {
      "image/png": "[encoded data removed]",
      "text/plain": [
       "<Figure size 432x288 with 1 Axes>"
      ]
     },
     "metadata": {
      "needs_background": "light"
     },
     "output_type": "display_data"
    }
   ],
   "source": [
    "def padzero(X,wsize) :\n",
    "    X = floor(wsize/2)*[0] + X + floor(wsize/2)*[0]\n",
    "    return X\n",
    "\n",
    "def padvalue(X,wsize) :\n",
    "    X = floor(wsize/2)*[X[0]] + X + floor(wsize/2)*[X[-1]]\n",
    "    return X\n",
    "\n",
    "def winstats(X,methods,wsize,padding = None) :\n",
    "    if padding != None :\n",
    "        X = padding(X,wsize)\n",
    "    w = window(methods,wsize)\n",
    "    R = {}\n",
    "    for method in methods :\n",
    "        R[method] = []\n",
    "    for x in X :\n",
    "        w = update(w,x)\n",
    "        for method in methods :\n",
    "            R[method].append(w[method])\n",
    "    return R\n",
    "    \n",
    "\n",
    "    \n",
    "seed(0)\n",
    "n = 1000\n",
    "k = 100\n",
    "X = [random() for i in range(n+k)]\n",
    "R = winstats(X,[winvar,winmad],k,padvalue)\n",
    "plt.plot(range(0,len(R[winmad])),[m*1.4826 for m in R[winmad]])\n",
    "plt.plot(range(0,len(R[winvar])),[sqrt(var) for var in R[winvar]])"
   ]
  },
  {
   "cell_type": "code",
   "execution_count": 156,
   "id": "528b65c0",
   "metadata": {},
   "outputs": [
    {
     "name": "stdout",
     "output_type": "stream",
     "text": [
      "[0.0, 0.6931471805599453, 1.3862943611198906, 2.0794415416798357, 2.772588722239781, 3.4657359027997265, 4.1588830833596715, 4.852030263919617, 5.545177444479562, 6.238324625039508, 6.931471805599453, 7.6246189861593985, 8.317766166719343, 9.010913347279288, 9.704060527839234]\n"
     ]
    },
    {
     "data": {
      "text/plain": [
       "[<matplotlib.lines.Line2D at 0x7f067aa46070>]"
      ]
     },
     "execution_count": 156,
     "metadata": {},
     "output_type": "execute_result"
    },
    {
     "data": {
      "image/png": "[encoded data removed]",
      "text/plain": [
       "<Figure size 432x288 with 1 Axes>"
      ]
     },
     "metadata": {
      "needs_background": "light"
     },
     "output_type": "display_data"
    }
   ],
   "source": [
    "from math import log\n",
    "X=[2**i for i in range(0,15)]\n",
    "Y  = [log(x) for x in X]\n",
    "Z = [log(x)*log(x) for x in X]\n",
    "print(Y)\n",
    "plt.plot(X,Y)\n",
    "plt.plot(X,Z)"
   ]
  },
  {
   "cell_type": "code",
   "execution_count": 38,
   "id": "f3445a8e",
   "metadata": {},
   "outputs": [
    {
     "data": {
      "text/plain": [
       "[1]"
      ]
     },
     "execution_count": 38,
     "metadata": {},
     "output_type": "execute_result"
    }
   ],
   "source": [
    "D = dict()\n",
    "D[\"L\"] = []\n",
    "D[\"L\"].append(1)\n",
    "D[\"L\"]"
   ]
  },
  {
   "cell_type": "markdown",
   "id": "146540eb",
   "metadata": {},
   "source": [
    "${\\rm mad} = {\\rm bisect}(T,\\mu_{T},a,b,c,d)$\n",
    "\n",
    "$\\mu_{T} = (T_{\\left \\lceil{\\# T /2 }\\right \\rceil - 1} + T_{\\left \\lfloor{\\# T /2 }\\right \\rfloor})/2$\n",
    "\n",
    "$a = 0$\n",
    "\n",
    "$b = \\left \\lfloor{\\# T /2 }\\right \\rfloor - 1 $\n",
    "\n",
    "$c = \\left \\lceil{\\# T /2 }\\right \\rceil$\n",
    "\n",
    "$d = \\#T - 1 $\n",
    "\n"
   ]
  }
 ],
 "metadata": {
  "kernelspec": {
   "display_name": "Python 3",
   "language": "python",
   "name": "python3"
  },
  "language_info": {
   "codemirror_mode": {
    "name": "ipython",
    "version": 3
   },
   "file_extension": ".py",
   "mimetype": "text/x-python",
   "name": "python",
   "nbconvert_exporter": "python",
   "pygments_lexer": "ipython3",
   "version": "3.6.9"
  }
 },
 "nbformat": 4,
 "nbformat_minor": 5
}
