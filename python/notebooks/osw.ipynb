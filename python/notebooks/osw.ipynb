{
 "cells": [
  {
   "cell_type": "code",
   "execution_count": 18,
   "id": "b38baa95",
   "metadata": {
    "scrolled": true
   },
   "outputs": [
    {
     "name": "stdout",
     "output_type": "stream",
     "text": [
      "Requirement already satisfied: scipy in /media/grosedj/e5490d4f-0dc1-4ce5-a9e9-217f2440bcdd/Dropbox/work/oss-env/env/lib/python3.9/site-packages (1.8.0)\n",
      "Requirement already satisfied: numpy<1.25.0,>=1.17.3 in /media/grosedj/e5490d4f-0dc1-4ce5-a9e9-217f2440bcdd/Dropbox/work/oss-env/env/lib/python3.9/site-packages (from scipy) (1.22.3)\n",
      "\u001b[33mWARNING: You are using pip version 21.2.4; however, version 22.0.4 is available.\n",
      "You should consider upgrading via the '/media/grosedj/e5490d4f-0dc1-4ce5-a9e9-217f2440bcdd/Dropbox/work/oss-env/env/bin/python -m pip install --upgrade pip' command.\u001b[0m\n",
      "Requirement already satisfied: matplotlib in /media/grosedj/e5490d4f-0dc1-4ce5-a9e9-217f2440bcdd/Dropbox/work/oss-env/env/lib/python3.9/site-packages (3.5.1)\n",
      "Requirement already satisfied: cycler>=0.10 in /media/grosedj/e5490d4f-0dc1-4ce5-a9e9-217f2440bcdd/Dropbox/work/oss-env/env/lib/python3.9/site-packages (from matplotlib) (0.11.0)\n",
      "Requirement already satisfied: python-dateutil>=2.7 in /media/grosedj/e5490d4f-0dc1-4ce5-a9e9-217f2440bcdd/Dropbox/work/oss-env/env/lib/python3.9/site-packages (from matplotlib) (2.8.2)\n",
      "Requirement already satisfied: packaging>=20.0 in /media/grosedj/e5490d4f-0dc1-4ce5-a9e9-217f2440bcdd/Dropbox/work/oss-env/env/lib/python3.9/site-packages (from matplotlib) (21.3)\n",
      "Requirement already satisfied: numpy>=1.17 in /media/grosedj/e5490d4f-0dc1-4ce5-a9e9-217f2440bcdd/Dropbox/work/oss-env/env/lib/python3.9/site-packages (from matplotlib) (1.22.3)\n",
      "Requirement already satisfied: kiwisolver>=1.0.1 in /media/grosedj/e5490d4f-0dc1-4ce5-a9e9-217f2440bcdd/Dropbox/work/oss-env/env/lib/python3.9/site-packages (from matplotlib) (1.4.2)\n",
      "Requirement already satisfied: pillow>=6.2.0 in /media/grosedj/e5490d4f-0dc1-4ce5-a9e9-217f2440bcdd/Dropbox/work/oss-env/env/lib/python3.9/site-packages (from matplotlib) (9.1.0)\n",
      "Requirement already satisfied: pyparsing>=2.2.1 in /media/grosedj/e5490d4f-0dc1-4ce5-a9e9-217f2440bcdd/Dropbox/work/oss-env/env/lib/python3.9/site-packages (from matplotlib) (3.0.8)\n",
      "Requirement already satisfied: fonttools>=4.22.0 in /media/grosedj/e5490d4f-0dc1-4ce5-a9e9-217f2440bcdd/Dropbox/work/oss-env/env/lib/python3.9/site-packages (from matplotlib) (4.33.3)\n",
      "Requirement already satisfied: six>=1.5 in /media/grosedj/e5490d4f-0dc1-4ce5-a9e9-217f2440bcdd/Dropbox/work/oss-env/env/lib/python3.9/site-packages (from python-dateutil>=2.7->matplotlib) (1.16.0)\n",
      "\u001b[33mWARNING: You are using pip version 21.2.4; however, version 22.0.4 is available.\n",
      "You should consider upgrading via the '/media/grosedj/e5490d4f-0dc1-4ce5-a9e9-217f2440bcdd/Dropbox/work/oss-env/env/bin/python -m pip install --upgrade pip' command.\u001b[0m\n",
      "Requirement already satisfied: sortedcontainers in /media/grosedj/e5490d4f-0dc1-4ce5-a9e9-217f2440bcdd/Dropbox/work/oss-env/env/lib/python3.9/site-packages (2.4.0)\n",
      "\u001b[33mWARNING: You are using pip version 21.2.4; however, version 22.0.4 is available.\n",
      "You should consider upgrading via the '/media/grosedj/e5490d4f-0dc1-4ce5-a9e9-217f2440bcdd/Dropbox/work/oss-env/env/bin/python -m pip install --upgrade pip' command.\u001b[0m\n",
      "Requirement already satisfied: dataclasses in /media/grosedj/e5490d4f-0dc1-4ce5-a9e9-217f2440bcdd/Dropbox/work/oss-env/env/lib/python3.9/site-packages (0.6)\n",
      "\u001b[33mWARNING: You are using pip version 21.2.4; however, version 22.0.4 is available.\n",
      "You should consider upgrading via the '/media/grosedj/e5490d4f-0dc1-4ce5-a9e9-217f2440bcdd/Dropbox/work/oss-env/env/bin/python -m pip install --upgrade pip' command.\u001b[0m\n",
      "Requirement already satisfied: statsmodels in /media/grosedj/e5490d4f-0dc1-4ce5-a9e9-217f2440bcdd/Dropbox/work/oss-env/env/lib/python3.9/site-packages (0.13.2)\n",
      "Requirement already satisfied: patsy>=0.5.2 in /media/grosedj/e5490d4f-0dc1-4ce5-a9e9-217f2440bcdd/Dropbox/work/oss-env/env/lib/python3.9/site-packages (from statsmodels) (0.5.2)\n",
      "Requirement already satisfied: scipy>=1.3 in /media/grosedj/e5490d4f-0dc1-4ce5-a9e9-217f2440bcdd/Dropbox/work/oss-env/env/lib/python3.9/site-packages (from statsmodels) (1.8.0)\n",
      "Requirement already satisfied: packaging>=21.3 in /media/grosedj/e5490d4f-0dc1-4ce5-a9e9-217f2440bcdd/Dropbox/work/oss-env/env/lib/python3.9/site-packages (from statsmodels) (21.3)\n",
      "Requirement already satisfied: pandas>=0.25 in /media/grosedj/e5490d4f-0dc1-4ce5-a9e9-217f2440bcdd/Dropbox/work/oss-env/env/lib/python3.9/site-packages (from statsmodels) (1.4.2)\n",
      "Requirement already satisfied: numpy>=1.17 in /media/grosedj/e5490d4f-0dc1-4ce5-a9e9-217f2440bcdd/Dropbox/work/oss-env/env/lib/python3.9/site-packages (from statsmodels) (1.22.3)\n",
      "Requirement already satisfied: pyparsing!=3.0.5,>=2.0.2 in /media/grosedj/e5490d4f-0dc1-4ce5-a9e9-217f2440bcdd/Dropbox/work/oss-env/env/lib/python3.9/site-packages (from packaging>=21.3->statsmodels) (3.0.8)\n",
      "Requirement already satisfied: python-dateutil>=2.8.1 in /media/grosedj/e5490d4f-0dc1-4ce5-a9e9-217f2440bcdd/Dropbox/work/oss-env/env/lib/python3.9/site-packages (from pandas>=0.25->statsmodels) (2.8.2)\n",
      "Requirement already satisfied: pytz>=2020.1 in /media/grosedj/e5490d4f-0dc1-4ce5-a9e9-217f2440bcdd/Dropbox/work/oss-env/env/lib/python3.9/site-packages (from pandas>=0.25->statsmodels) (2022.1)\n",
      "Requirement already satisfied: six in /media/grosedj/e5490d4f-0dc1-4ce5-a9e9-217f2440bcdd/Dropbox/work/oss-env/env/lib/python3.9/site-packages (from patsy>=0.5.2->statsmodels) (1.16.0)\n",
      "\u001b[33mWARNING: You are using pip version 21.2.4; however, version 22.0.4 is available.\n",
      "You should consider upgrading via the '/media/grosedj/e5490d4f-0dc1-4ce5-a9e9-217f2440bcdd/Dropbox/work/oss-env/env/bin/python -m pip install --upgrade pip' command.\u001b[0m\n",
      "Requirement already satisfied: numpy in /media/grosedj/e5490d4f-0dc1-4ce5-a9e9-217f2440bcdd/Dropbox/work/oss-env/env/lib/python3.9/site-packages (1.22.3)\n",
      "\u001b[33mWARNING: You are using pip version 21.2.4; however, version 22.0.4 is available.\n",
      "You should consider upgrading via the '/media/grosedj/e5490d4f-0dc1-4ce5-a9e9-217f2440bcdd/Dropbox/work/oss-env/env/bin/python -m pip install --upgrade pip' command.\u001b[0m\n"
     ]
    }
   ],
   "source": [
    "!python -m pip install scipy\n",
    "!python -m pip install matplotlib\n",
    "!python -m pip install sortedcontainers\n",
    "!python -m pip install dataclasses\n",
    "!python -m pip install statsmodels\n",
    "!python -m pip install numpy"
   ]
  },
  {
   "cell_type": "code",
   "execution_count": 2,
   "id": "e674d49a",
   "metadata": {},
   "outputs": [],
   "source": [
    "from sortedcontainers import SortedList"
   ]
  },
  {
   "cell_type": "code",
   "execution_count": 295,
   "id": "0567d833",
   "metadata": {},
   "outputs": [],
   "source": [
    "from collections import deque"
   ]
  },
  {
   "cell_type": "code",
   "execution_count": 4,
   "id": "6af27083",
   "metadata": {},
   "outputs": [],
   "source": [
    "import dataclasses"
   ]
  },
  {
   "cell_type": "code",
   "execution_count": 5,
   "id": "51718392",
   "metadata": {},
   "outputs": [],
   "source": [
    "import unittest"
   ]
  },
  {
   "cell_type": "code",
   "execution_count": 6,
   "id": "62be7dac",
   "metadata": {},
   "outputs": [],
   "source": [
    "@dataclasses.dataclass\n",
    "class OSW :\n",
    "    size : int\n",
    "    OST : SortedList\n",
    "    W : deque\n",
    "    def __init__(self,size) :\n",
    "        self.size = size\n",
    "        self.OST = SortedList()\n",
    "        self.W = deque([],size+1)\n",
    "    def push(self,x) :\n",
    "        self.W.append(x)\n",
    "        popped = None\n",
    "        if len(self.W) > self.size :\n",
    "            self.OST.remove(self.W[0])\n",
    "            popped = self.W.popleft()\n",
    "        index = self.OST.bisect_left(x)\n",
    "        self.OST.add(x)\n",
    "        return (index,popped)\n",
    "    def bisect_left(self,x) :\n",
    "        if len(self.OST) == 0 :\n",
    "            return (0,None)\n",
    "        index = self.OST.bisect_left(x)\n",
    "        if index == len(self.OST) :\n",
    "            return (index,None)\n",
    "        return (index,self.OST[index])\n",
    "    def bisect_right(self,x) :\n",
    "        if len(self.OST) == 0 :\n",
    "            return (0,None)\n",
    "        index = self.OST.bisect_right(x)\n",
    "        if index == 0 :\n",
    "            return (index,None)\n",
    "        return (index,self.OST[index-1])\n",
    "    def __getitem__(self,i) :\n",
    "        return self.OST[i]\n",
    "    def __len__(self) :\n",
    "        return len(self.W)\n",
    "        \n",
    "\n",
    "  "
   ]
  },
  {
   "cell_type": "code",
   "execution_count": 7,
   "id": "e1a9bd68",
   "metadata": {},
   "outputs": [],
   "source": [
    "from scipy.stats import median_abs_deviation\n",
    "from math import floor,ceil\n"
   ]
  },
  {
   "cell_type": "code",
   "execution_count": 8,
   "id": "c88970ca",
   "metadata": {},
   "outputs": [],
   "source": [
    "def mad(T) :\n",
    "    if len(T) == 1 :\n",
    "        return 0\n",
    "    mu = (T[ceil(len(T)/2) - 1] + T[floor(len(T)/2)])/2\n",
    "    a = 0\n",
    "    b = floor(len(T)/2) - 1\n",
    "    c = ceil(len(T)/2)\n",
    "    d = len(T) - 1  \n",
    "   \n",
    "    def bisect(T,Ix,Iy,mu) :\n",
    "        a,b = Ix\n",
    "        c,d = Iy\n",
    "        if b - a < 2 :\n",
    "            if len(T) % 2 == 0 :\n",
    "                return (max(mu-T[b],T[c]-mu) + min(mu-T[a],T[d]-mu))/2\n",
    "            else :\n",
    "                return min(max(mu-T[b],T[c]-mu),min(mu-T[a],T[d]-mu))\n",
    "        (a,b) = (a + floor((b-a)/2), a + ceil((b-a)/2)) \n",
    "        (c,d) = (c + floor((d-c)/2), c + ceil((d-c)/2))\n",
    "        if 4*mu > T[a] + T[b] + T[c] + T[d] :\n",
    "            Ix = (a,Ix[1])\n",
    "            Iy = (c,Iy[1])\n",
    "        else :\n",
    "            Ix = (Ix[0],b)\n",
    "            Iy = (Iy[0],d)\n",
    "        return bisect(T,Ix,Iy,mu)\n",
    "    return bisect(T,(a,b),(c,d),mu)"
   ]
  },
  {
   "cell_type": "code",
   "execution_count": 9,
   "id": "724a3481",
   "metadata": {},
   "outputs": [],
   "source": [
    "from random import random"
   ]
  },
  {
   "cell_type": "code",
   "execution_count": 10,
   "id": "7f41cbfb",
   "metadata": {},
   "outputs": [
    {
     "name": "stdout",
     "output_type": "stream",
     "text": [
      "[]\n"
     ]
    }
   ],
   "source": [
    "diff = []\n",
    "for i in range(200) :\n",
    "    osw = OSW(5001)\n",
    "    X = [random() for j in range(5001)]\n",
    "    for x in X :\n",
    "        osw.push(x)\n",
    "    diff.append(mad(osw)- median_abs_deviation(X))\n",
    "\n",
    "diff = [d for d in diff if d != 0]\n",
    "\n",
    "print(diff)"
   ]
  },
  {
   "cell_type": "code",
   "execution_count": 11,
   "id": "f9b24db3",
   "metadata": {},
   "outputs": [
    {
     "name": "stderr",
     "output_type": "stream",
     "text": [
      "test_bisect_left (__main__.test_OSW) ... ok\n",
      "test_index (__main__.test_OSW) ... ok\n",
      "test_index_out_of_bounds (__main__.test_OSW) ... ok\n",
      "test_len (__main__.test_OSW) ... ok\n",
      "test_push (__main__.test_OSW) ... ok\n",
      "\n",
      "----------------------------------------------------------------------\n",
      "Ran 5 tests in 0.003s\n",
      "\n",
      "OK\n"
     ]
    },
    {
     "data": {
      "text/plain": [
       "<unittest.main.TestProgram at 0x7f6d6e967220>"
      ]
     },
     "execution_count": 11,
     "metadata": {},
     "output_type": "execute_result"
    }
   ],
   "source": [
    "class test_OSW(unittest.TestCase) :\n",
    "    def test_push(self) :\n",
    "        osw = OSW(4)\n",
    "        X = [1,3,2,4,3,5,4,6,5,7]\n",
    "        for x in X :\n",
    "            osw.push(x)\n",
    "        self.assertEqual(osw.OST,[4,5,6,7])\n",
    "    def test_index(self) :\n",
    "        osw = OSW(4)\n",
    "        X = [1,3,2,4,3,5,4,6,5,7]\n",
    "        for x in X :\n",
    "            osw.push(x)\n",
    "        self.assertEqual(osw.__getitem__(2),6)\n",
    "    def test_index_out_of_bounds(self) :\n",
    "        osw = OSW(4)\n",
    "        self.assertRaises(IndexError,osw.__getitem__,0)\n",
    "        osw.push(1)\n",
    "        self.assertEqual(osw.__getitem__(0),1)\n",
    "        X = [1,3,2,4,3,5,4,6,5,7]\n",
    "        for x in X :\n",
    "            osw.push(x)\n",
    "        self.assertRaises(IndexError,osw.__getitem__,4)\n",
    "    def test_bisect_left(self) :\n",
    "        osw = OSW(4)\n",
    "        (index,upperbound) = osw.bisect_left(3.14)\n",
    "        self.assertEqual(index,0)\n",
    "        self.assertIsNone(upperbound)\n",
    "        self.assertEqual(osw.OST,[])\n",
    "        osw.push(3.14)\n",
    "        (index,upperbound) = osw.bisect_left(2.14)\n",
    "        self.assertEqual(index,0)\n",
    "        self.assertEqual(upperbound,3.14)\n",
    "        self.assertEqual(osw.OST,[3.14])\n",
    "        (index,upperbound) = osw.bisect_left(4.14)\n",
    "        self.assertEqual(index,1)\n",
    "        self.assertIsNone(upperbound)\n",
    "        self.assertEqual(osw.OST,[3.14])\n",
    "        (index,upperbound) = osw.bisect_left(3.14)\n",
    "        self.assertEqual(index,0)\n",
    "        self.assertEqual(upperbound,3.14)\n",
    "        self.assertEqual(osw.OST,[3.14])\n",
    "        osw.push(5.14)\n",
    "        self.assertEqual(osw.OST,[3.14,5.14])\n",
    "        (index,upperbound) = osw.bisect_left(4.14)\n",
    "        self.assertEqual(index,1)\n",
    "        self.assertEqual(upperbound,5.14)\n",
    "        osw.push(5.14)\n",
    "        self.assertEqual(osw.OST,[3.14,5.14,5.14])\n",
    "        (index,upperbound) = osw.bisect_left(5.14)\n",
    "        self.assertEqual(index,1)\n",
    "        self.assertEqual(upperbound,5.14)\n",
    "    def test_len(self) :\n",
    "        osw = OSW(4)\n",
    "        self.assertEqual(len(osw),0)\n",
    "        osw.push(1.14)\n",
    "        self.assertEqual(len(osw),1)\n",
    "        osw.push(2.14)\n",
    "        self.assertEqual(len(osw),2)\n",
    "        osw.push(3.14)\n",
    "        self.assertEqual(len(osw),3)\n",
    "        osw.push(4.14)\n",
    "        self.assertEqual(len(osw),4)\n",
    "        osw.push(5.14)\n",
    "        self.assertEqual(len(osw),4)\n",
    "        \n",
    "unittest.main(argv=[''], verbosity=2, exit=False)"
   ]
  },
  {
   "cell_type": "code",
   "execution_count": 12,
   "id": "a2de6740",
   "metadata": {},
   "outputs": [
    {
     "name": "stdout",
     "output_type": "stream",
     "text": [
      "OSW(size=10, OST=SortedList([0.011808695109316925, 0.11912141410459798, 0.13448304778451314, 0.30345934709614264, 0.3382658843328781, 0.42695561625411116, 0.6212996593078272, 0.85342579416227, 0.8650095434112905, 0.960629444620492]), W=deque([0.3382658843328781, 0.960629444620492, 0.6212996593078272, 0.11912141410459798, 0.85342579416227, 0.011808695109316925, 0.30345934709614264, 0.8650095434112905, 0.42695561625411116, 0.13448304778451314], maxlen=11))\n",
      "10\n",
      "None\n"
     ]
    }
   ],
   "source": [
    "osw = OSW(10)\n",
    "for i in range(101010) :\n",
    "    osw.push(random())\n",
    "print(osw)\n",
    "index,upper_bound = osw.bisect_left(2.1)\n",
    "print(index)\n",
    "print(upper_bound)"
   ]
  },
  {
   "cell_type": "code",
   "execution_count": 13,
   "id": "d169a36c",
   "metadata": {},
   "outputs": [],
   "source": [
    "@dataclasses.dataclass\n",
    "class kruskall_wallis_sample :\n",
    "    osw : None\n",
    "    S : int = 0\n",
    "    def __init__(self,sample_size) :\n",
    "        self.osw = OSW(sample_size)\n",
    "\n",
    "\n",
    "@dataclasses.dataclass\n",
    "class kruskall_wallis_statistic :\n",
    "    samples : None\n",
    "    H : float = 0.0\n",
    "    def __init__(self,number_of_samples,sample_size) :\n",
    "        self.samples = []\n",
    "        for i in range(number_of_samples) :\n",
    "            self.samples.append(kruskall_wallis_sample(sample_size))\n",
    "    def push(self,sample_number,value) :\n",
    "        rank = 1\n",
    "        for sample in self.samples :\n",
    "            index,_ = sample.osw.bisect_left(value)\n",
    "            rank += index\n",
    "            sample.S = sample.S + len(sample.osw.W) - index\n",
    "        self.samples[sample_number].S += rank\n",
    "        _,popped = self.samples[sample_number].osw.push(value)\n",
    "        if popped != None :\n",
    "            rank = 1\n",
    "            for sample in self.samples :\n",
    "                index,_ = sample.osw.bisect_left(popped)\n",
    "                rank += index\n",
    "                sample.S = sample.S - len(sample.osw.W) + index\n",
    "            self.samples[sample_number].S -= rank\n",
    "        N = sum([len(sample.osw.W) for sample in self.samples])\n",
    "        R = sum([0 if sample.S == 0 else sample.S*sample.S/len(sample.osw.W) for sample in self.samples])\n",
    "        self.H = (12/N/(N+1))*R - 3*(N+1)\n",
    "        \n",
    "            \n",
    "        \n",
    "        \n"
   ]
  },
  {
   "cell_type": "code",
   "execution_count": 14,
   "id": "0bfeb457",
   "metadata": {},
   "outputs": [
    {
     "name": "stdout",
     "output_type": "stream",
     "text": [
      "1169924\n",
      "831076\n",
      "2001000\n",
      "172.14088021589305\n"
     ]
    },
    {
     "data": {
      "text/plain": [
       "KruskalResult(statistic=172.14088021589214, pvalue=2.5211204078508854e-39)"
      ]
     },
     "execution_count": 14,
     "metadata": {},
     "output_type": "execute_result"
    }
   ],
   "source": [
    "from scipy import stats\n",
    "\n",
    "kw = kruskall_wallis_statistic(2,1000)\n",
    "\n",
    "for i in range(10000) :\n",
    "    kw.push(0,random()+0.2) \n",
    "    kw.push(1,random()) \n",
    "   \n",
    "print(kw.samples[0].S)\n",
    "print(kw.samples[1].S)\n",
    "print(kw.samples[0].S + kw.samples[1].S)\n",
    "print(kw.H)\n",
    "stats.kruskal(kw.samples[0].osw.OST,kw.samples[1].osw.OST)"
   ]
  },
  {
   "cell_type": "code",
   "execution_count": 15,
   "id": "0e1d0a83",
   "metadata": {},
   "outputs": [
    {
     "name": "stdout",
     "output_type": "stream",
     "text": [
      "0\n"
     ]
    }
   ],
   "source": [
    "\n",
    "x=[]\n",
    "print(sum(x))"
   ]
  },
  {
   "cell_type": "code",
   "execution_count": 16,
   "id": "c300c489",
   "metadata": {},
   "outputs": [],
   "source": [
    "@dataclasses.dataclass\n",
    "class kruskall_wallis_sample :\n",
    "    osw : None\n",
    "    S : int = 0\n",
    "    def __init__(self,sample_size) :\n",
    "        self.osw = OSW(sample_size)\n",
    "\n",
    "\n",
    "@dataclasses.dataclass\n",
    "class kruskall_wallis_statistic :\n",
    "    samples : None\n",
    "    H : float = 0.0\n",
    "    def __init__(self,window_sizes) :\n",
    "        self.samples = []\n",
    "        for window_size in window_sizes :\n",
    "            self.samples.append(kruskall_wallis_sample(window_size))\n",
    "    def push(self,sample_number,value) :\n",
    "        rank = 1\n",
    "        for sample in self.samples :\n",
    "            index,_ = sample.osw.bisect_left(value)\n",
    "            rank += index\n",
    "            sample.S = sample.S + len(sample.osw.W) - index\n",
    "        self.samples[sample_number].S += rank\n",
    "        _,popped = self.samples[sample_number].osw.push(value)\n",
    "        if popped != None :\n",
    "            rank = 1\n",
    "            for sample in self.samples :\n",
    "                index,_ = sample.osw.bisect_left(popped)\n",
    "                rank += index\n",
    "                sample.S = sample.S - len(sample.osw.W) + index\n",
    "            self.samples[sample_number].S -= rank\n",
    "        N = sum([len(sample.osw.W) for sample in self.samples])\n",
    "        R = sum([0 if sample.S == 0 else sample.S*sample.S/len(sample.osw.W) for sample in self.samples])\n",
    "        self.H = (12/N/(N+1))*R - 3*(N+1)"
   ]
  },
  {
   "cell_type": "code",
   "execution_count": 19,
   "id": "81c69268",
   "metadata": {},
   "outputs": [
    {
     "name": "stdout",
     "output_type": "stream",
     "text": [
      "52134325\n",
      "8371175\n",
      "60505500\n",
      "898.9119122579796\n"
     ]
    },
    {
     "data": {
      "text/plain": [
       "KruskalResult(statistic=0.3014987401248039, pvalue=0.582944367383025)"
      ]
     },
     "execution_count": 19,
     "metadata": {},
     "output_type": "execute_result"
    }
   ],
   "source": [
    "import numpy as np\n",
    "kw = kruskall_wallis_statistic([10000,1000])\n",
    "\n",
    "H = []\n",
    "X = list(np.random.poisson(1,50000)) + list(np.random.poisson(5,50000))\n",
    "for x in X :\n",
    "    kw.push(0,x) \n",
    "    kw.push(1,x)\n",
    "    H.append(kw.H)\n",
    "   \n",
    "print(kw.samples[0].S)\n",
    "print(kw.samples[1].S)\n",
    "print(kw.samples[0].S + kw.samples[1].S)\n",
    "print(kw.H)\n",
    "stats.kruskal(kw.samples[0].osw.OST,kw.samples[1].osw.OST)\n",
    "# note - this is broken wrt to true KSW stat since it has lots of repeated values (poisson distribution)\n",
    "# note - this corresponds to a 1 second window size at 10000 Hz !! - and its pure python !!!"
   ]
  },
  {
   "cell_type": "code",
   "execution_count": 20,
   "id": "44501c25",
   "metadata": {},
   "outputs": [],
   "source": [
    "import matplotlib.pyplot as plt"
   ]
  },
  {
   "cell_type": "code",
   "execution_count": 21,
   "id": "b9c1e37d",
   "metadata": {},
   "outputs": [
    {
     "data": {
      "text/plain": [
       "[<matplotlib.lines.Line2D at 0x7f6dc03dc2b0>]"
      ]
     },
     "execution_count": 21,
     "metadata": {},
     "output_type": "execute_result"
    },
    {
     "data": {
      "image/png": "[encoded data removed]",
      "text/plain": [
       "<Figure size 432x288 with 1 Axes>"
      ]
     },
     "metadata": {
      "needs_background": "light"
     },
     "output_type": "display_data"
    }
   ],
   "source": [
    "plt.plot(H)"
   ]
  },
  {
   "cell_type": "code",
   "execution_count": 22,
   "id": "ec8f27b4",
   "metadata": {},
   "outputs": [
    {
     "name": "stdout",
     "output_type": "stream",
     "text": [
      "55045811\n",
      "5459689\n",
      "60505500\n",
      "0.18167850788449869\n"
     ]
    },
    {
     "data": {
      "text/plain": [
       "KruskalResult(statistic=0.17725407453559056, pvalue=0.6737437433144426)"
      ]
     },
     "execution_count": 22,
     "metadata": {},
     "output_type": "execute_result"
    }
   ],
   "source": [
    "kw = kruskall_wallis_statistic([10000,1000])\n",
    "\n",
    "H = []\n",
    "X = list(np.random.normal(0,1,50000)) + list(np.random.normal(1,1,50000))\n",
    "for x in X :\n",
    "    kw.push(0,x) \n",
    "    kw.push(1,x)\n",
    "    H.append(kw.H)\n",
    "   \n",
    "print(kw.samples[0].S)\n",
    "print(kw.samples[1].S)\n",
    "print(kw.samples[0].S + kw.samples[1].S)\n",
    "print(kw.H)\n",
    "stats.kruskal(kw.samples[0].osw.OST,kw.samples[1].osw.OST)\n",
    "# note - this is less broken wrt to true KSW stat since it has less repeated values (normal distribution)\n",
    "# note - this corresponds to a 1 second window size at 10000 Hz !! - and its pure python !!!"
   ]
  },
  {
   "cell_type": "code",
   "execution_count": 23,
   "id": "d70baa73",
   "metadata": {},
   "outputs": [
    {
     "data": {
      "text/plain": [
       "[<matplotlib.lines.Line2D at 0x7f6de8524e20>]"
      ]
     },
     "execution_count": 23,
     "metadata": {},
     "output_type": "execute_result"
    },
    {
     "data": {
      "image/png": "[encoded data removed]",
      "text/plain": [
       "<Figure size 432x288 with 1 Axes>"
      ]
     },
     "metadata": {
      "needs_background": "light"
     },
     "output_type": "display_data"
    }
   ],
   "source": [
    "plt.plot(H)"
   ]
  },
  {
   "cell_type": "code",
   "execution_count": 24,
   "id": "e2250751",
   "metadata": {},
   "outputs": [],
   "source": [
    "\n",
    "# try a sign test\n",
    "from scipy.stats import binom\n",
    "import statsmodels\n",
    "\n",
    "l = OSW(1000)\n",
    "s = OSW(100)\n",
    "\n",
    "R = []\n",
    "P = []\n",
    "# X = list(np.random.normal(0,1,50000)) + list(np.random.normal(5,1,50000))\n",
    "X = list(np.random.poisson(1,50000)) + list(np.random.poisson(2,50000))\n",
    "for x in X :\n",
    "    l.push(x) \n",
    "    s.push(x)\n",
    "    mu = (l[ceil(len(l)/2) - 1] + l[floor(len(l)/2)])/2\n",
    "    below,_ = s.bisect_left(mu)\n",
    "    above,_ = s.bisect_right(mu)\n",
    "    above = len(s) - above\n",
    "    x = min(above,below)\n",
    "    R.append(above+below)\n",
    "    P.append(binom.pmf(x,above + below, 0.5))\n",
    "\n",
    "    \n",
    "\n"
   ]
  },
  {
   "cell_type": "code",
   "execution_count": 25,
   "id": "09e13eb4",
   "metadata": {},
   "outputs": [
    {
     "data": {
      "text/plain": [
       "[<matplotlib.lines.Line2D at 0x7f6dc02f8520>]"
      ]
     },
     "execution_count": 25,
     "metadata": {},
     "output_type": "execute_result"
    },
    {
     "data": {
      "image/png": "[encoded data removed]",
      "text/plain": [
       "<Figure size 432x288 with 1 Axes>"
      ]
     },
     "metadata": {
      "needs_background": "light"
     },
     "output_type": "display_data"
    }
   ],
   "source": [
    "plt.plot(P)"
   ]
  },
  {
   "cell_type": "code",
   "execution_count": 26,
   "id": "057e5294",
   "metadata": {},
   "outputs": [
    {
     "name": "stdout",
     "output_type": "stream",
     "text": [
      "(0, None)\n",
      "(0, None)\n",
      "(1, 2)\n",
      "(5, 2)\n"
     ]
    }
   ],
   "source": [
    "window = OSW(10)\n",
    "print(window.bisect_left(2))\n",
    "print(window.bisect_right(2))\n",
    "window.push(1)\n",
    "window.push(2)\n",
    "window.push(2)\n",
    "window.push(2)\n",
    "window.push(2)\n",
    "window.push(3)\n",
    "window.push(4)\n",
    "\n",
    "print(window.bisect_left(2))\n",
    "print(window.bisect_right(2))"
   ]
  },
  {
   "cell_type": "code",
   "execution_count": 107,
   "id": "f0befa0b",
   "metadata": {},
   "outputs": [
    {
     "data": {
      "text/plain": [
       "5"
      ]
     },
     "execution_count": 107,
     "metadata": {},
     "output_type": "execute_result"
    }
   ],
   "source": [
    "min(5,5)"
   ]
  },
  {
   "cell_type": "code",
   "execution_count": 231,
   "id": "d527a588",
   "metadata": {},
   "outputs": [],
   "source": [
    "@dataclasses.dataclass\n",
    "class ost :\n",
    "    X : SortedList\n",
    "    def __init__(self) :\n",
    "        self.X = SortedList()\n",
    "    def bisect_left(self,x) :\n",
    "        if len(self.X) == 0 :\n",
    "            return (1,None)\n",
    "        index = self.X.bisect_left(x)\n",
    "        if index == len(self.X) :\n",
    "            return (index+1,None)\n",
    "        return (index+1,self.X[index])\n",
    "    def bisect_right(self,x) :\n",
    "        if len(self.X) == 0 :\n",
    "            return (1,None)\n",
    "        index = self.X.bisect_right(x)\n",
    "        if index == 0 :\n",
    "            return (1,None)\n",
    "        return (index+1,self.X[index-1])\n",
    "    def add(self,x) :\n",
    "        self.X.add(x)\n",
    "    def remove(self,x) :\n",
    "        if len(self.X) != 0 :\n",
    "            _,ub = self.bisect_left(x)\n",
    "            if ub == x :\n",
    "                self.X.remove(x)\n",
    "    def __len__(self) :\n",
    "        return len(self.X)\n",
    "    "
   ]
  },
  {
   "cell_type": "code",
   "execution_count": 287,
   "id": "9c4e0930",
   "metadata": {},
   "outputs": [],
   "source": [
    "@dataclasses.dataclass\n",
    "class kw :\n",
    "    X1 : ost\n",
    "    X2 : ost\n",
    "    S1 : float\n",
    "    S2 : float\n",
    "    T : float\n",
    "    def __init__(self) :\n",
    "        self.X1 = ost()\n",
    "        self.X2 = ost()\n",
    "        self.S1 = self.S2 = self.T = 0.0\n",
    "        \n",
    "    def add(self,x,k) :\n",
    "        def add_impl(X,Y,Sx,Sy,T) :\n",
    "            lbx,_ = X.bisect_left(x)\n",
    "            lby,_ = Y.bisect_left(x)\n",
    "            rbx,_ = X.bisect_right(x)\n",
    "            rby,_ = Y.bisect_right(x)\n",
    "            Sx = Sx + len(X) + 0.5*(lby + rby)\n",
    "            Sy = Sy + len(Y) - 0.5*(lby + rby) + 1\n",
    "            t = 1 + rbx + rby - lbx - lby\n",
    "            T = T + 3*t*(t - 1)\n",
    "            X.add(x)\n",
    "            return(X,Y,Sx,Sy,T)\n",
    "        if k == 1 :\n",
    "            self.X1,self.X2,self.S1,self.S2,self.T = add_impl(self.X1,self.X2,self.S1,self.S2,self.T)\n",
    "        if k == 2 :\n",
    "            self.X2,self.X1,self.S2,self.S1,self.T = add_impl(self.X2,self.X1,self.S2,self.S1,self.T)\n",
    "    def remove(self,x,k) :\n",
    "        def remove_impl(X,Y,Sx,Sy,T) :\n",
    "            if len(X) != 0 :\n",
    "                X.remove(x)\n",
    "                lbx,_ = X.bisect_left(x)\n",
    "                lby,_ = Y.bisect_left(x)\n",
    "                rbx,_ = X.bisect_right(x)\n",
    "                rby,_ = Y.bisect_right(x)\n",
    "                Sx = Sx - len(X) - 0.5*(lby + rby)\n",
    "                Sy = Sy - len(Y) + 0.5*(lby + rby) - 1\n",
    "                t = 1 + rbx + rby - lbx - lby\n",
    "                T = T - 3*t*(t - 1)\n",
    "                return(X,Y,Sx,Sy,T)\n",
    "        if k == 1 :\n",
    "            self.X1,self.X2,self.S1,self.S2,self.T = remove_impl(self.X1,self.X2,self.S1,self.S2,self.T)\n",
    "        if k == 2 :\n",
    "            self.X2,self.X1,self.S2,self.S1,self.T = remove_impl(self.X2,self.X1,self.S2,self.S1,self.T)    \n",
    "    def H(self) :\n",
    "        N1 = len(self.X1)\n",
    "        N2 = len(self.X2)\n",
    "        N = N1 + N2\n",
    "        H = 12*((self.S1*self.S1/N1) + (self.S2*self.S2/N2))/(N*(N+1)) - 3*(N+1)\n",
    "        C = 1.0 - self.T/(N*N*N - N)\n",
    "        return H / C\n",
    "    def pvalue(self) :\n",
    "        return stats.chi2.sf(self.H(),1)\n"
   ]
  },
  {
   "cell_type": "code",
   "execution_count": 288,
   "id": "b24ba34e",
   "metadata": {},
   "outputs": [
    {
     "name": "stdout",
     "output_type": "stream",
     "text": [
      "kw(X1=ost(X=SortedList([1, 2, 3])), X2=ost(X=SortedList([])), S1=6.0, S2=0.0, T=0.0)\n",
      "kw(X1=ost(X=SortedList([1, 2, 3])), X2=ost(X=SortedList([4, 5, 6])), S1=6.0, S2=15.0, T=0.0)\n",
      "3.8571428571428577\n",
      "kw(X1=ost(X=SortedList([1, 2, 3])), X2=ost(X=SortedList([1, 4, 5, 6])), S1=8.5, S2=19.5, T=6.0)\n",
      "1.559090909090909\n"
     ]
    }
   ],
   "source": [
    "blob = kw()\n",
    "blob.add(1,1)\n",
    "blob.add(2,1)\n",
    "blob.add(3,1)\n",
    "print(blob)\n",
    "blob.add(4,2)\n",
    "blob.add(5,2)\n",
    "blob.add(6,2)\n",
    "print(blob)\n",
    "print(blob.H())\n",
    "blob.add(1,2)\n",
    "print(blob)\n",
    "print(blob.H())"
   ]
  },
  {
   "cell_type": "code",
   "execution_count": 257,
   "id": "281a33e8",
   "metadata": {},
   "outputs": [
    {
     "name": "stdout",
     "output_type": "stream",
     "text": [
      "(1, None)\n",
      "(1, None)\n",
      "(2, None)\n"
     ]
    }
   ],
   "source": [
    "blob = ost()\n",
    "print(blob.bisect_left(3))\n",
    "print(blob.bisect_right(3))\n",
    "blob.add(3)\n",
    "print(blob.bisect_left(4))"
   ]
  },
  {
   "cell_type": "code",
   "execution_count": 258,
   "id": "facc0ff4",
   "metadata": {},
   "outputs": [
    {
     "data": {
      "text/plain": [
       "KruskalResult(statistic=1.5590909090909055, pvalue=0.2117983783057198)"
      ]
     },
     "execution_count": 258,
     "metadata": {},
     "output_type": "execute_result"
    }
   ],
   "source": [
    "stats.kruskal([1,2,3],[4,5,6,1])"
   ]
  },
  {
   "cell_type": "code",
   "execution_count": 293,
   "id": "39356027",
   "metadata": {},
   "outputs": [
    {
     "name": "stdout",
     "output_type": "stream",
     "text": [
      "kw(X1=ost(X=SortedList([1, 2, 3])), X2=ost(X=SortedList([4, 5, 6])), S1=6.0, S2=15.0, T=0.0)\n",
      "3.8571428571428577\n",
      "0.04953461343562649\n",
      "KruskalResult(statistic=3.857142857142854, pvalue=0.049534613435626915)\n",
      "kw(X1=ost(X=SortedList([1, 2, 3])), X2=ost(X=SortedList([4, 5, 6, 10])), S1=6.0, S2=22.0, T=0.0)\n",
      "4.5\n",
      "0.033894853524689295\n",
      "KruskalResult(statistic=3.857142857142854, pvalue=0.049534613435626915)\n",
      "kw(X1=ost(X=SortedList([1, 2, 3])), X2=ost(X=SortedList([4, 5, 6])), S1=6.0, S2=15.0, T=0.0)\n",
      "3.8571428571428577\n",
      "0.04953461343562649\n",
      "KruskalResult(statistic=3.857142857142854, pvalue=0.049534613435626915)\n"
     ]
    },
    {
     "data": {
      "text/plain": [
       "0.049534613435626915"
      ]
     },
     "execution_count": 293,
     "metadata": {},
     "output_type": "execute_result"
    }
   ],
   "source": [
    "blob = kw()\n",
    "#X = list(np.random.poisson(1,100000))\n",
    "#Y = list(np.random.poisson(1,100000))\n",
    "X = [1,2,3]\n",
    "Y = [4,5,6]\n",
    "for x in X :\n",
    "    blob.add(x,1)\n",
    "for y in Y :\n",
    "    blob.add(y,2)\n",
    "\n",
    "print(blob)\n",
    "print(blob.H())\n",
    "print(blob.pvalue())\n",
    "print(stats.kruskal(X,Y))\n",
    "stats.chi2.sf(stats.kruskal(X,Y).statistic,1)\n",
    "\n",
    "blob.add(10,2)\n",
    "print(blob)\n",
    "print(blob.H())\n",
    "print(blob.pvalue())\n",
    "print(stats.kruskal(X,Y))\n",
    "stats.chi2.sf(stats.kruskal(X,Y).statistic,1)\n",
    "\n",
    "\n",
    "blob.remove(10,2)\n",
    "print(blob)\n",
    "print(blob.H())\n",
    "print(blob.pvalue())\n",
    "print(stats.kruskal(X,Y))\n",
    "stats.chi2.sf(stats.kruskal(X,Y).statistic,1)\n"
   ]
  },
  {
   "cell_type": "code",
   "execution_count": 274,
   "id": "81753091",
   "metadata": {},
   "outputs": [
    {
     "name": "stdout",
     "output_type": "stream",
     "text": [
      "0.10191240332886305\n",
      "0.7495466340569163\n",
      "KruskalResult(statistic=0.09922993633531674, pvalue=0.7527557047579259)\n"
     ]
    },
    {
     "data": {
      "text/plain": [
       "0.7527557047579259"
      ]
     },
     "execution_count": 274,
     "metadata": {},
     "output_type": "execute_result"
    }
   ],
   "source": [
    "for x in X[:50000] :\n",
    "    blob.remove(x,1)\n",
    "\n",
    "print(blob.H())\n",
    "print(blob.pvalue())\n",
    "print(stats.kruskal(X[50001:],Y))\n",
    "stats.chi2.sf(stats.kruskal(X[50001:],Y).statistic,1)\n",
    "    "
   ]
  },
  {
   "cell_type": "code",
   "execution_count": 226,
   "id": "9dc27760",
   "metadata": {},
   "outputs": [],
   "source": [
    "L = kw()\n",
    "R = kw()\n",
    "\n",
    "# X = list(np.random.poisson(1,10000)) + list(np.random.poisson(1,10000))\n",
    "X = list(np.random.normal(0,1,10000)) + list(np.random.normal(5,1,10000))\n",
    "for x in X :\n",
    "    L.add(x,1)\n",
    "    R.add(x,1)\n",
    "pL = []    \n",
    "for x in X[1:] :\n",
    "    L.add(x,2)\n",
    "    pL.append(L.pvalue())\n",
    "    \n",
    "pR = []\n",
    "X.reverse()\n",
    "for x in X[1:] :\n",
    "    R.add(x,2)\n",
    "    pR.append(R.pvalue())\n",
    "\n",
    "\n"
   ]
  },
  {
   "cell_type": "code",
   "execution_count": 305,
   "id": "3677625e",
   "metadata": {},
   "outputs": [
    {
     "ename": "ValueError",
     "evalue": "math domain error",
     "output_type": "error",
     "traceback": [
      "\u001b[0;31m---------------------------------------------------------------------------\u001b[0m",
      "\u001b[0;31mValueError\u001b[0m                                Traceback (most recent call last)",
      "Input \u001b[0;32mIn [305]\u001b[0m, in \u001b[0;36m<cell line: 2>\u001b[0;34m()\u001b[0m\n\u001b[1;32m      1\u001b[0m \u001b[38;5;28;01mfrom\u001b[39;00m \u001b[38;5;21;01mmath\u001b[39;00m \u001b[38;5;28;01mimport\u001b[39;00m log\n\u001b[0;32m----> 2\u001b[0m p \u001b[38;5;241m=\u001b[39m [log(pl) \u001b[38;5;241m+\u001b[39m log(pr) \u001b[38;5;28;01mfor\u001b[39;00m pl,pr \u001b[38;5;129;01min\u001b[39;00m \u001b[38;5;28mzip\u001b[39m(pL,pR)]\n\u001b[1;32m      3\u001b[0m \u001b[38;5;28mprint\u001b[39m(\u001b[38;5;241m2\u001b[39m\u001b[38;5;241m*\u001b[39mlog(\u001b[38;5;28mlen\u001b[39m(X)))\n",
      "Input \u001b[0;32mIn [305]\u001b[0m, in \u001b[0;36m<listcomp>\u001b[0;34m(.0)\u001b[0m\n\u001b[1;32m      1\u001b[0m \u001b[38;5;28;01mfrom\u001b[39;00m \u001b[38;5;21;01mmath\u001b[39;00m \u001b[38;5;28;01mimport\u001b[39;00m log\n\u001b[0;32m----> 2\u001b[0m p \u001b[38;5;241m=\u001b[39m [\u001b[43mlog\u001b[49m\u001b[43m(\u001b[49m\u001b[43mpl\u001b[49m\u001b[43m)\u001b[49m \u001b[38;5;241m+\u001b[39m log(pr) \u001b[38;5;28;01mfor\u001b[39;00m pl,pr \u001b[38;5;129;01min\u001b[39;00m \u001b[38;5;28mzip\u001b[39m(pL,pR)]\n\u001b[1;32m      3\u001b[0m \u001b[38;5;28mprint\u001b[39m(\u001b[38;5;241m2\u001b[39m\u001b[38;5;241m*\u001b[39mlog(\u001b[38;5;28mlen\u001b[39m(X)))\n",
      "\u001b[0;31mValueError\u001b[0m: math domain error"
     ]
    }
   ],
   "source": [
    "from math import log\n",
    "p = [log(pl) + log(pr) for pl,pr in zip(pL,pR)]\n",
    "print(2*log(len(X)))"
   ]
  },
  {
   "cell_type": "code",
   "execution_count": 223,
   "id": "77e946e0",
   "metadata": {},
   "outputs": [
    {
     "data": {
      "text/plain": [
       "[<matplotlib.lines.Line2D at 0x7f6d90bee130>]"
      ]
     },
     "execution_count": 223,
     "metadata": {},
     "output_type": "execute_result"
    },
    {
     "data": {
      "image/png": "[encoded data removed]",
      "text/plain": [
       "<Figure size 432x288 with 1 Axes>"
      ]
     },
     "metadata": {
      "needs_background": "light"
     },
     "output_type": "display_data"
    }
   ],
   "source": [
    "plt.plot(p)"
   ]
  },
  {
   "cell_type": "code",
   "execution_count": 220,
   "id": "6bde6204",
   "metadata": {},
   "outputs": [
    {
     "data": {
      "text/plain": [
       "[<matplotlib.lines.Line2D at 0x7f6d90b02df0>]"
      ]
     },
     "execution_count": 220,
     "metadata": {},
     "output_type": "execute_result"
    },
    {
     "data": {
      "image/png": "[encoded data removed]",
      "text/plain": [
       "<Figure size 432x288 with 1 Axes>"
      ]
     },
     "metadata": {
      "needs_background": "light"
     },
     "output_type": "display_data"
    }
   ],
   "source": [
    "plt.plot(X)"
   ]
  },
  {
   "cell_type": "code",
   "execution_count": 230,
   "id": "02807388",
   "metadata": {},
   "outputs": [
    {
     "ename": "ValueError",
     "evalue": "4.1 not in list",
     "output_type": "error",
     "traceback": [
      "\u001b[0;31m---------------------------------------------------------------------------\u001b[0m",
      "\u001b[0;31mValueError\u001b[0m                                Traceback (most recent call last)",
      "Input \u001b[0;32mIn [230]\u001b[0m, in \u001b[0;36m<cell line: 5>\u001b[0;34m()\u001b[0m\n\u001b[1;32m      3\u001b[0m Z\u001b[38;5;241m.\u001b[39madd(\u001b[38;5;241m3\u001b[39m)\n\u001b[1;32m      4\u001b[0m Z\u001b[38;5;241m.\u001b[39madd(\u001b[38;5;241m4\u001b[39m)\n\u001b[0;32m----> 5\u001b[0m \u001b[43mZ\u001b[49m\u001b[38;5;241;43m.\u001b[39;49m\u001b[43mremove\u001b[49m\u001b[43m(\u001b[49m\u001b[38;5;241;43m4.1\u001b[39;49m\u001b[43m)\u001b[49m\n\u001b[1;32m      6\u001b[0m Z\n",
      "File \u001b[0;32m/media/grosedj/e5490d4f-0dc1-4ce5-a9e9-217f2440bcdd/Dropbox/work/oss-env/env/lib/python3.9/site-packages/sortedcontainers/sortedlist.py:454\u001b[0m, in \u001b[0;36mSortedList.remove\u001b[0;34m(self, value)\u001b[0m\n\u001b[1;32m    451\u001b[0m pos \u001b[38;5;241m=\u001b[39m bisect_left(_maxes, value)\n\u001b[1;32m    453\u001b[0m \u001b[38;5;28;01mif\u001b[39;00m pos \u001b[38;5;241m==\u001b[39m \u001b[38;5;28mlen\u001b[39m(_maxes):\n\u001b[0;32m--> 454\u001b[0m     \u001b[38;5;28;01mraise\u001b[39;00m \u001b[38;5;167;01mValueError\u001b[39;00m(\u001b[38;5;124m'\u001b[39m\u001b[38;5;132;01m{0!r}\u001b[39;00m\u001b[38;5;124m not in list\u001b[39m\u001b[38;5;124m'\u001b[39m\u001b[38;5;241m.\u001b[39mformat(value))\n\u001b[1;32m    456\u001b[0m _lists \u001b[38;5;241m=\u001b[39m \u001b[38;5;28mself\u001b[39m\u001b[38;5;241m.\u001b[39m_lists\n\u001b[1;32m    457\u001b[0m idx \u001b[38;5;241m=\u001b[39m bisect_left(_lists[pos], value)\n",
      "\u001b[0;31mValueError\u001b[0m: 4.1 not in list"
     ]
    }
   ],
   "source": [
    "Z = SortedList()\n",
    "Z.add(1)\n",
    "Z.add(3)\n",
    "Z.add(4)\n",
    "Z.remove(4.1)\n",
    "Z"
   ]
  },
  {
   "cell_type": "code",
   "execution_count": 442,
   "id": "9139f18c",
   "metadata": {},
   "outputs": [],
   "source": [
    "Z = list(np.random.poisson(1,50000)) + list(np.random.poisson(1.5,50000))\n",
    "\n",
    "\n",
    "lw = 1000\n",
    "rw = 100\n",
    "cpt = list()\n",
    "L = kw()\n",
    "R = kw()\n",
    "LD = deque(maxlen=lw)\n",
    "RD = deque(maxlen=rw)\n",
    "\n",
    "for x in Z[:(lw+rw)] :\n",
    "    L.add(x,1)\n",
    "    R.add(x,1)\n",
    "    R.add(x,2)\n",
    "    if len(RD) == rw :\n",
    "        v = RD.popleft()\n",
    "        R.remove(v,2)\n",
    "        L.add(v,2)\n",
    "        LD.append(v)\n",
    "    RD.append(x)\n",
    "    if len(LD) == lw :\n",
    "        v = LD.popleft()\n",
    "        R.remove(v,1)\n",
    "        L.remove(v,1)\n",
    "        L.remove(v,2)\n",
    "\n",
    "p = list()    \n",
    "for x in Z[(lw+rw+1):] :\n",
    "    L.add(x,1)\n",
    "    R.add(x,1)\n",
    "    R.add(x,2)\n",
    "    if len(RD) == rw :\n",
    "        v = RD.popleft()\n",
    "        R.remove(v,2)\n",
    "        L.add(v,2)\n",
    "        LD.append(v)\n",
    "    RD.append(x)\n",
    "    if len(LD) == lw  :\n",
    "        v = LD.popleft()\n",
    "        R.remove(v,1)\n",
    "        L.remove(v,1)\n",
    "        L.remove(v,2)\n",
    "    p.append(log(L.pvalue())+log(R.pvalue()))\n",
    "\n",
    "\n",
    "        \n",
    "        \n",
    "\n",
    "        "
   ]
  },
  {
   "cell_type": "code",
   "execution_count": 443,
   "id": "191f9b6f",
   "metadata": {},
   "outputs": [
    {
     "data": {
      "text/plain": [
       "[<matplotlib.lines.Line2D at 0x7f6d6d987a90>]"
      ]
     },
     "execution_count": 443,
     "metadata": {},
     "output_type": "execute_result"
    },
    {
     "data": {
      "image/png": "[encoded data removed]",
      "text/plain": [
       "<Figure size 432x288 with 1 Axes>"
      ]
     },
     "metadata": {
      "needs_background": "light"
     },
     "output_type": "display_data"
    }
   ],
   "source": [
    "plt.plot(p)"
   ]
  },
  {
   "cell_type": "code",
   "execution_count": 440,
   "id": "ba6df507",
   "metadata": {},
   "outputs": [
    {
     "data": {
      "text/plain": [
       "1099"
      ]
     },
     "execution_count": 440,
     "metadata": {},
     "output_type": "execute_result"
    }
   ],
   "source": [
    "len(L.X1)"
   ]
  },
  {
   "cell_type": "code",
   "execution_count": 429,
   "id": "f97a18ea",
   "metadata": {},
   "outputs": [
    {
     "name": "stdout",
     "output_type": "stream",
     "text": [
      "14.006130917572923\n"
     ]
    }
   ],
   "source": [
    "print(2*log(1100))"
   ]
  }
 ],
 "metadata": {
  "kernelspec": {
   "display_name": "Python 3 (ipykernel)",
   "language": "python",
   "name": "python3"
  },
  "language_info": {
   "codemirror_mode": {
    "name": "ipython",
    "version": 3
   },
   "file_extension": ".py",
   "mimetype": "text/x-python",
   "name": "python",
   "nbconvert_exporter": "python",
   "pygments_lexer": "ipython3",
   "version": "3.9.9"
  }
 },
 "nbformat": 4,
 "nbformat_minor": 5
}
