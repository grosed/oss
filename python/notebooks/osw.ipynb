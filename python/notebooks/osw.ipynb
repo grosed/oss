{
 "cells": [
  {
   "cell_type": "code",
   "execution_count": 156,
   "id": "b38baa95",
   "metadata": {
    "scrolled": true
   },
   "outputs": [
    {
     "name": "stdout",
     "output_type": "stream",
     "text": [
      "Requirement already satisfied: scipy in ./env/lib/python3.9/site-packages (1.8.0)\n",
      "Requirement already satisfied: numpy<1.25.0,>=1.17.3 in ./env/lib/python3.9/site-packages (from scipy) (1.22.3)\n",
      "\u001b[33mWARNING: You are using pip version 21.2.4; however, version 22.0.4 is available.\n",
      "You should consider upgrading via the '/home/grosedj/python-envs/winstats/env/bin/python -m pip install --upgrade pip' command.\u001b[0m\n",
      "Requirement already satisfied: matplotlib in ./env/lib/python3.9/site-packages (3.5.1)\n",
      "Requirement already satisfied: pyparsing>=2.2.1 in ./env/lib/python3.9/site-packages (from matplotlib) (3.0.7)\n",
      "Requirement already satisfied: pillow>=6.2.0 in ./env/lib/python3.9/site-packages (from matplotlib) (9.0.1)\n",
      "Requirement already satisfied: numpy>=1.17 in ./env/lib/python3.9/site-packages (from matplotlib) (1.22.3)\n",
      "Requirement already satisfied: packaging>=20.0 in ./env/lib/python3.9/site-packages (from matplotlib) (21.3)\n",
      "Requirement already satisfied: python-dateutil>=2.7 in ./env/lib/python3.9/site-packages (from matplotlib) (2.8.2)\n",
      "Requirement already satisfied: kiwisolver>=1.0.1 in ./env/lib/python3.9/site-packages (from matplotlib) (1.4.1)\n",
      "Requirement already satisfied: fonttools>=4.22.0 in ./env/lib/python3.9/site-packages (from matplotlib) (4.31.2)\n",
      "Requirement already satisfied: cycler>=0.10 in ./env/lib/python3.9/site-packages (from matplotlib) (0.11.0)\n",
      "Requirement already satisfied: six>=1.5 in ./env/lib/python3.9/site-packages (from python-dateutil>=2.7->matplotlib) (1.16.0)\n",
      "\u001b[33mWARNING: You are using pip version 21.2.4; however, version 22.0.4 is available.\n",
      "You should consider upgrading via the '/home/grosedj/python-envs/winstats/env/bin/python -m pip install --upgrade pip' command.\u001b[0m\n",
      "Requirement already satisfied: sortedcontainers in ./env/lib/python3.9/site-packages (2.4.0)\n",
      "\u001b[33mWARNING: You are using pip version 21.2.4; however, version 22.0.4 is available.\n",
      "You should consider upgrading via the '/home/grosedj/python-envs/winstats/env/bin/python -m pip install --upgrade pip' command.\u001b[0m\n",
      "Requirement already satisfied: dataclasses in ./env/lib/python3.9/site-packages (0.6)\n",
      "\u001b[33mWARNING: You are using pip version 21.2.4; however, version 22.0.4 is available.\n",
      "You should consider upgrading via the '/home/grosedj/python-envs/winstats/env/bin/python -m pip install --upgrade pip' command.\u001b[0m\n",
      "Collecting statsmodels\n",
      "  Using cached statsmodels-0.13.2-cp39-cp39-manylinux_2_17_x86_64.manylinux2014_x86_64.whl (9.9 MB)\n",
      "Requirement already satisfied: scipy>=1.3 in ./env/lib/python3.9/site-packages (from statsmodels) (1.8.0)\n",
      "Requirement already satisfied: numpy>=1.17 in ./env/lib/python3.9/site-packages (from statsmodels) (1.22.3)\n",
      "Requirement already satisfied: packaging>=21.3 in ./env/lib/python3.9/site-packages (from statsmodels) (21.3)\n",
      "Collecting pandas>=0.25\n",
      "  Using cached pandas-1.4.1-cp39-cp39-manylinux_2_17_x86_64.manylinux2014_x86_64.whl (11.7 MB)\n",
      "Collecting patsy>=0.5.2\n",
      "  Using cached patsy-0.5.2-py2.py3-none-any.whl (233 kB)\n",
      "Requirement already satisfied: pyparsing!=3.0.5,>=2.0.2 in ./env/lib/python3.9/site-packages (from packaging>=21.3->statsmodels) (3.0.7)\n",
      "Collecting pytz>=2020.1\n",
      "  Using cached pytz-2022.1-py2.py3-none-any.whl (503 kB)\n",
      "Requirement already satisfied: python-dateutil>=2.8.1 in ./env/lib/python3.9/site-packages (from pandas>=0.25->statsmodels) (2.8.2)\n",
      "Requirement already satisfied: six in ./env/lib/python3.9/site-packages (from patsy>=0.5.2->statsmodels) (1.16.0)\n",
      "Installing collected packages: pytz, patsy, pandas, statsmodels\n",
      "Successfully installed pandas-1.4.1 patsy-0.5.2 pytz-2022.1 statsmodels-0.13.2\n",
      "\u001b[33mWARNING: You are using pip version 21.2.4; however, version 22.0.4 is available.\n",
      "You should consider upgrading via the '/home/grosedj/python-envs/winstats/env/bin/python -m pip install --upgrade pip' command.\u001b[0m\n"
     ]
    }
   ],
   "source": [
    "!python -m pip install scipy\n",
    "!python -m pip install matplotlib\n",
    "!python -m pip install sortedcontainers\n",
    "!python -m pip install dataclasses\n",
    "!python -m pip install statsmodels"
   ]
  },
  {
   "cell_type": "code",
   "execution_count": 2,
   "id": "e674d49a",
   "metadata": {},
   "outputs": [],
   "source": [
    "from sortedcontainers import SortedList"
   ]
  },
  {
   "cell_type": "code",
   "execution_count": 3,
   "id": "0567d833",
   "metadata": {},
   "outputs": [],
   "source": [
    "from collections import deque"
   ]
  },
  {
   "cell_type": "code",
   "execution_count": 4,
   "id": "6af27083",
   "metadata": {},
   "outputs": [],
   "source": [
    "import dataclasses"
   ]
  },
  {
   "cell_type": "code",
   "execution_count": 5,
   "id": "51718392",
   "metadata": {},
   "outputs": [],
   "source": [
    "import unittest"
   ]
  },
  {
   "cell_type": "code",
   "execution_count": 161,
   "id": "62be7dac",
   "metadata": {},
   "outputs": [],
   "source": [
    "@dataclasses.dataclass\n",
    "class OSW :\n",
    "    size : int\n",
    "    OST : SortedList\n",
    "    W : deque\n",
    "    def __init__(self,size) :\n",
    "        self.size = size\n",
    "        self.OST = SortedList()\n",
    "        self.W = deque([],size+1)\n",
    "    def push(self,x) :\n",
    "        self.W.append(x)\n",
    "        popped = None\n",
    "        if len(self.W) > self.size :\n",
    "            self.OST.remove(self.W[0])\n",
    "            popped = self.W.popleft()\n",
    "        index = self.OST.bisect_left(x)\n",
    "        self.OST.add(x)\n",
    "        return (index,popped)\n",
    "    def bisect_left(self,x) :\n",
    "        if len(self.OST) == 0 :\n",
    "            return (0,None)\n",
    "        index = self.OST.bisect_left(x)\n",
    "        if index == len(self.OST) :\n",
    "            return (index,None)\n",
    "        return (index,self.OST[index])\n",
    "    def bisect_right(self,x) :\n",
    "        if len(self.OST) == 0 :\n",
    "            return (0,None)\n",
    "        index = self.OST.bisect_right(x)\n",
    "        if index == 0 :\n",
    "            return (index,None)\n",
    "        return (index,self.OST[index-1])\n",
    "    def __getitem__(self,i) :\n",
    "        return self.OST[i]\n",
    "    def __len__(self) :\n",
    "        return len(self.W)\n",
    "        \n",
    "\n",
    "  "
   ]
  },
  {
   "cell_type": "code",
   "execution_count": 7,
   "id": "e1a9bd68",
   "metadata": {},
   "outputs": [],
   "source": [
    "from scipy.stats import median_abs_deviation\n",
    "from math import floor,ceil\n"
   ]
  },
  {
   "cell_type": "code",
   "execution_count": 8,
   "id": "c88970ca",
   "metadata": {},
   "outputs": [],
   "source": [
    "def mad(T) :\n",
    "    if len(T) == 1 :\n",
    "        return 0\n",
    "    mu = (T[ceil(len(T)/2) - 1] + T[floor(len(T)/2)])/2\n",
    "    a = 0\n",
    "    b = floor(len(T)/2) - 1\n",
    "    c = ceil(len(T)/2)\n",
    "    d = len(T) - 1  \n",
    "   \n",
    "    def bisect(T,Ix,Iy,mu) :\n",
    "        a,b = Ix\n",
    "        c,d = Iy\n",
    "        if b - a < 2 :\n",
    "            if len(T) % 2 == 0 :\n",
    "                return (max(mu-T[b],T[c]-mu) + min(mu-T[a],T[d]-mu))/2\n",
    "            else :\n",
    "                return min(max(mu-T[b],T[c]-mu),min(mu-T[a],T[d]-mu))\n",
    "        (a,b) = (a + floor((b-a)/2), a + ceil((b-a)/2)) \n",
    "        (c,d) = (c + floor((d-c)/2), c + ceil((d-c)/2))\n",
    "        if 4*mu > T[a] + T[b] + T[c] + T[d] :\n",
    "            Ix = (a,Ix[1])\n",
    "            Iy = (c,Iy[1])\n",
    "        else :\n",
    "            Ix = (Ix[0],b)\n",
    "            Iy = (Iy[0],d)\n",
    "        return bisect(T,Ix,Iy,mu)\n",
    "    return bisect(T,(a,b),(c,d),mu)"
   ]
  },
  {
   "cell_type": "code",
   "execution_count": 9,
   "id": "724a3481",
   "metadata": {},
   "outputs": [],
   "source": [
    "from random import random"
   ]
  },
  {
   "cell_type": "code",
   "execution_count": 10,
   "id": "7f41cbfb",
   "metadata": {},
   "outputs": [
    {
     "name": "stdout",
     "output_type": "stream",
     "text": [
      "[]\n"
     ]
    }
   ],
   "source": [
    "diff = []\n",
    "for i in range(200) :\n",
    "    osw = OSW(5001)\n",
    "    X = [random() for j in range(5001)]\n",
    "    for x in X :\n",
    "        osw.push(x)\n",
    "    diff.append(mad(osw)- median_abs_deviation(X))\n",
    "\n",
    "diff = [d for d in diff if d != 0]\n",
    "\n",
    "print(diff)"
   ]
  },
  {
   "cell_type": "code",
   "execution_count": 11,
   "id": "f9b24db3",
   "metadata": {},
   "outputs": [
    {
     "name": "stderr",
     "output_type": "stream",
     "text": [
      "test_bisect_left (__main__.test_OSW) ... ok\n",
      "test_index (__main__.test_OSW) ... ok\n",
      "test_index_out_of_bounds (__main__.test_OSW) ... ok\n",
      "test_len (__main__.test_OSW) ... ok\n",
      "test_push (__main__.test_OSW) ... ok\n",
      "\n",
      "----------------------------------------------------------------------\n",
      "Ran 5 tests in 0.002s\n",
      "\n",
      "OK\n"
     ]
    },
    {
     "data": {
      "text/plain": [
       "<unittest.main.TestProgram at 0x7fcefe0687c0>"
      ]
     },
     "execution_count": 11,
     "metadata": {},
     "output_type": "execute_result"
    }
   ],
   "source": [
    "class test_OSW(unittest.TestCase) :\n",
    "    def test_push(self) :\n",
    "        osw = OSW(4)\n",
    "        X = [1,3,2,4,3,5,4,6,5,7]\n",
    "        for x in X :\n",
    "            osw.push(x)\n",
    "        self.assertEqual(osw.OST,[4,5,6,7])\n",
    "    def test_index(self) :\n",
    "        osw = OSW(4)\n",
    "        X = [1,3,2,4,3,5,4,6,5,7]\n",
    "        for x in X :\n",
    "            osw.push(x)\n",
    "        self.assertEqual(osw.__getitem__(2),6)\n",
    "    def test_index_out_of_bounds(self) :\n",
    "        osw = OSW(4)\n",
    "        self.assertRaises(IndexError,osw.__getitem__,0)\n",
    "        osw.push(1)\n",
    "        self.assertEqual(osw.__getitem__(0),1)\n",
    "        X = [1,3,2,4,3,5,4,6,5,7]\n",
    "        for x in X :\n",
    "            osw.push(x)\n",
    "        self.assertRaises(IndexError,osw.__getitem__,4)\n",
    "    def test_bisect_left(self) :\n",
    "        osw = OSW(4)\n",
    "        (index,upperbound) = osw.bisect_left(3.14)\n",
    "        self.assertEqual(index,0)\n",
    "        self.assertIsNone(upperbound)\n",
    "        self.assertEqual(osw.OST,[])\n",
    "        osw.push(3.14)\n",
    "        (index,upperbound) = osw.bisect_left(2.14)\n",
    "        self.assertEqual(index,0)\n",
    "        self.assertEqual(upperbound,3.14)\n",
    "        self.assertEqual(osw.OST,[3.14])\n",
    "        (index,upperbound) = osw.bisect_left(4.14)\n",
    "        self.assertEqual(index,1)\n",
    "        self.assertIsNone(upperbound)\n",
    "        self.assertEqual(osw.OST,[3.14])\n",
    "        (index,upperbound) = osw.bisect_left(3.14)\n",
    "        self.assertEqual(index,0)\n",
    "        self.assertEqual(upperbound,3.14)\n",
    "        self.assertEqual(osw.OST,[3.14])\n",
    "        osw.push(5.14)\n",
    "        self.assertEqual(osw.OST,[3.14,5.14])\n",
    "        (index,upperbound) = osw.bisect_left(4.14)\n",
    "        self.assertEqual(index,1)\n",
    "        self.assertEqual(upperbound,5.14)\n",
    "        osw.push(5.14)\n",
    "        self.assertEqual(osw.OST,[3.14,5.14,5.14])\n",
    "        (index,upperbound) = osw.bisect_left(5.14)\n",
    "        self.assertEqual(index,1)\n",
    "        self.assertEqual(upperbound,5.14)\n",
    "    def test_len(self) :\n",
    "        osw = OSW(4)\n",
    "        self.assertEqual(len(osw),0)\n",
    "        osw.push(1.14)\n",
    "        self.assertEqual(len(osw),1)\n",
    "        osw.push(2.14)\n",
    "        self.assertEqual(len(osw),2)\n",
    "        osw.push(3.14)\n",
    "        self.assertEqual(len(osw),3)\n",
    "        osw.push(4.14)\n",
    "        self.assertEqual(len(osw),4)\n",
    "        osw.push(5.14)\n",
    "        self.assertEqual(len(osw),4)\n",
    "        \n",
    "unittest.main(argv=[''], verbosity=2, exit=False)"
   ]
  },
  {
   "cell_type": "code",
   "execution_count": 12,
   "id": "a2de6740",
   "metadata": {},
   "outputs": [
    {
     "name": "stdout",
     "output_type": "stream",
     "text": [
      "OSW(size=10, OST=SortedList([0.00962724934101944, 0.03726347781007722, 0.14821398912597827, 0.23279525786918231, 0.2598109661532142, 0.5234505104977512, 0.7723342701310735, 0.822693445741112, 0.830733179811122, 0.9946230933063175]), W=deque([0.2598109661532142, 0.822693445741112, 0.23279525786918231, 0.5234505104977512, 0.7723342701310735, 0.9946230933063175, 0.00962724934101944, 0.830733179811122, 0.14821398912597827, 0.03726347781007722], maxlen=11))\n",
      "10\n",
      "None\n"
     ]
    }
   ],
   "source": [
    "osw = OSW(10)\n",
    "for i in range(101010) :\n",
    "    osw.push(random())\n",
    "print(osw)\n",
    "index,upper_bound = osw.bisect_left(2.1)\n",
    "print(index)\n",
    "print(upper_bound)"
   ]
  },
  {
   "cell_type": "code",
   "execution_count": 14,
   "id": "d169a36c",
   "metadata": {},
   "outputs": [],
   "source": [
    "@dataclasses.dataclass\n",
    "class kruskall_wallis_sample :\n",
    "    osw : None\n",
    "    S : int = 0\n",
    "    def __init__(self,sample_size) :\n",
    "        self.osw = OSW(sample_size)\n",
    "\n",
    "\n",
    "@dataclasses.dataclass\n",
    "class kruskall_wallis_statistic :\n",
    "    samples : None\n",
    "    H : float = 0.0\n",
    "    def __init__(self,number_of_samples,sample_size) :\n",
    "        self.samples = []\n",
    "        for i in range(number_of_samples) :\n",
    "            self.samples.append(kruskall_wallis_sample(sample_size))\n",
    "    def push(self,sample_number,value) :\n",
    "        rank = 1\n",
    "        for sample in self.samples :\n",
    "            index,_ = sample.osw.bisect_left(value)\n",
    "            rank += index\n",
    "            sample.S = sample.S + len(sample.osw.W) - index\n",
    "        self.samples[sample_number].S += rank\n",
    "        _,popped = self.samples[sample_number].osw.push(value)\n",
    "        if popped != None :\n",
    "            rank = 1\n",
    "            for sample in self.samples :\n",
    "                index,_ = sample.osw.bisect_left(popped)\n",
    "                rank += index\n",
    "                sample.S = sample.S - len(sample.osw.W) + index\n",
    "            self.samples[sample_number].S -= rank\n",
    "        N = sum([len(sample.osw.W) for sample in self.samples])\n",
    "        R = sum([0 if sample.S == 0 else sample.S*sample.S/len(sample.osw.W) for sample in self.samples])\n",
    "        self.H = (12/N/(N+1))*R - 3*(N+1)\n",
    "        \n",
    "            \n",
    "        \n",
    "        \n"
   ]
  },
  {
   "cell_type": "code",
   "execution_count": 16,
   "id": "0bfeb457",
   "metadata": {},
   "outputs": [
    {
     "name": "stdout",
     "output_type": "stream",
     "text": [
      "1197011\n",
      "803989\n",
      "2001000\n",
      "231.58364690254984\n"
     ]
    },
    {
     "data": {
      "text/plain": [
       "KruskalResult(statistic=231.58364690254894, pvalue=2.6914148501301865e-52)"
      ]
     },
     "execution_count": 16,
     "metadata": {},
     "output_type": "execute_result"
    }
   ],
   "source": [
    "from scipy import stats\n",
    "\n",
    "kw = kruskall_wallis_statistic(2,1000)\n",
    "\n",
    "for i in range(10000) :\n",
    "    kw.push(0,random()+0.2) \n",
    "    kw.push(1,random()) \n",
    "   \n",
    "print(kw.samples[0].S)\n",
    "print(kw.samples[1].S)\n",
    "print(kw.samples[0].S + kw.samples[1].S)\n",
    "print(kw.H)\n",
    "stats.kruskal(kw.samples[0].osw.OST,kw.samples[1].osw.OST)"
   ]
  },
  {
   "cell_type": "code",
   "execution_count": 284,
   "id": "0e1d0a83",
   "metadata": {},
   "outputs": [
    {
     "name": "stdout",
     "output_type": "stream",
     "text": [
      "0\n"
     ]
    }
   ],
   "source": [
    "\n",
    "x=[]\n",
    "print(sum(x))"
   ]
  },
  {
   "cell_type": "code",
   "execution_count": 19,
   "id": "c300c489",
   "metadata": {},
   "outputs": [],
   "source": [
    "@dataclasses.dataclass\n",
    "class kruskall_wallis_sample :\n",
    "    osw : None\n",
    "    S : int = 0\n",
    "    def __init__(self,sample_size) :\n",
    "        self.osw = OSW(sample_size)\n",
    "\n",
    "\n",
    "@dataclasses.dataclass\n",
    "class kruskall_wallis_statistic :\n",
    "    samples : None\n",
    "    H : float = 0.0\n",
    "    def __init__(self,window_sizes) :\n",
    "        self.samples = []\n",
    "        for window_size in window_sizes :\n",
    "            self.samples.append(kruskall_wallis_sample(window_size))\n",
    "    def push(self,sample_number,value) :\n",
    "        rank = 1\n",
    "        for sample in self.samples :\n",
    "            index,_ = sample.osw.bisect_left(value)\n",
    "            rank += index\n",
    "            sample.S = sample.S + len(sample.osw.W) - index\n",
    "        self.samples[sample_number].S += rank\n",
    "        _,popped = self.samples[sample_number].osw.push(value)\n",
    "        if popped != None :\n",
    "            rank = 1\n",
    "            for sample in self.samples :\n",
    "                index,_ = sample.osw.bisect_left(popped)\n",
    "                rank += index\n",
    "                sample.S = sample.S - len(sample.osw.W) + index\n",
    "            self.samples[sample_number].S -= rank\n",
    "        N = sum([len(sample.osw.W) for sample in self.samples])\n",
    "        R = sum([0 if sample.S == 0 else sample.S*sample.S/len(sample.osw.W) for sample in self.samples])\n",
    "        self.H = (12/N/(N+1))*R - 3*(N+1)"
   ]
  },
  {
   "cell_type": "code",
   "execution_count": 45,
   "id": "81c69268",
   "metadata": {},
   "outputs": [
    {
     "name": "stdout",
     "output_type": "stream",
     "text": [
      "52082281\n",
      "8423219\n",
      "60505500\n",
      "931.8010747707667\n"
     ]
    },
    {
     "data": {
      "text/plain": [
       "KruskalResult(statistic=0.3772267716081844, pvalue=0.5390911708571068)"
      ]
     },
     "execution_count": 45,
     "metadata": {},
     "output_type": "execute_result"
    }
   ],
   "source": [
    "kw = kruskall_wallis_statistic([10000,1000])\n",
    "\n",
    "H = []\n",
    "X = list(np.random.poisson(1,50000)) + list(np.random.poisson(5,50000))\n",
    "for x in X :\n",
    "    kw.push(0,x) \n",
    "    kw.push(1,x)\n",
    "    H.append(kw.H)\n",
    "   \n",
    "print(kw.samples[0].S)\n",
    "print(kw.samples[1].S)\n",
    "print(kw.samples[0].S + kw.samples[1].S)\n",
    "print(kw.H)\n",
    "stats.kruskal(kw.samples[0].osw.OST,kw.samples[1].osw.OST)\n",
    "# note - this is broken wrt to true KSW stat since it has lots of repeated values (poisson distribution)\n",
    "# note - this corresponds to a 1 second window size at 10000 Hz !! - and its pure python !!!"
   ]
  },
  {
   "cell_type": "code",
   "execution_count": 26,
   "id": "44501c25",
   "metadata": {},
   "outputs": [],
   "source": [
    "import matplotlib.pyplot as plt"
   ]
  },
  {
   "cell_type": "code",
   "execution_count": 43,
   "id": "b9c1e37d",
   "metadata": {},
   "outputs": [
    {
     "data": {
      "text/plain": [
       "[<matplotlib.lines.Line2D at 0x7fcef8a232e0>]"
      ]
     },
     "execution_count": 43,
     "metadata": {},
     "output_type": "execute_result"
    },
    {
     "data": {
      "image/png": "[encoded data removed]",
      "text/plain": [
       "<Figure size 432x288 with 1 Axes>"
      ]
     },
     "metadata": {
      "needs_background": "light"
     },
     "output_type": "display_data"
    }
   ],
   "source": [
    "plt.plot(H)"
   ]
  },
  {
   "cell_type": "code",
   "execution_count": 51,
   "id": "ec8f27b4",
   "metadata": {},
   "outputs": [
    {
     "name": "stdout",
     "output_type": "stream",
     "text": [
      "55240543\n",
      "5264957\n",
      "60505500\n",
      "6.051868540940632\n"
     ]
    },
    {
     "data": {
      "text/plain": [
       "KruskalResult(statistic=6.026202574092831, pvalue=0.014095024939197528)"
      ]
     },
     "execution_count": 51,
     "metadata": {},
     "output_type": "execute_result"
    }
   ],
   "source": [
    "kw = kruskall_wallis_statistic([10000,1000])\n",
    "\n",
    "H = []\n",
    "X = list(np.random.normal(0,1,50000)) + list(np.random.normal(1,1,50000))\n",
    "for x in X :\n",
    "    kw.push(0,x) \n",
    "    kw.push(1,x)\n",
    "    H.append(kw.H)\n",
    "   \n",
    "print(kw.samples[0].S)\n",
    "print(kw.samples[1].S)\n",
    "print(kw.samples[0].S + kw.samples[1].S)\n",
    "print(kw.H)\n",
    "stats.kruskal(kw.samples[0].osw.OST,kw.samples[1].osw.OST)\n",
    "# note - this is less broken wrt to true KSW stat since it has less repeated values (normal distribution)\n",
    "# note - this corresponds to a 1 second window size at 10000 Hz !! - and its pure python !!!"
   ]
  },
  {
   "cell_type": "code",
   "execution_count": 50,
   "id": "d70baa73",
   "metadata": {},
   "outputs": [
    {
     "data": {
      "text/plain": [
       "[<matplotlib.lines.Line2D at 0x7fcef85f06d0>]"
      ]
     },
     "execution_count": 50,
     "metadata": {},
     "output_type": "execute_result"
    },
    {
     "data": {
      "image/png": "[encoded data removed]",
      "text/plain": [
       "<Figure size 432x288 with 1 Axes>"
      ]
     },
     "metadata": {
      "needs_background": "light"
     },
     "output_type": "display_data"
    }
   ],
   "source": [
    "plt.plot(H)"
   ]
  },
  {
   "cell_type": "code",
   "execution_count": 159,
   "id": "e2250751",
   "metadata": {},
   "outputs": [],
   "source": [
    "\n",
    "# try a sign test\n",
    "from scipy.stats import binom\n",
    "import statsmodels\n",
    "\n",
    "l = OSW(1000)\n",
    "s = OSW(100)\n",
    "\n",
    "R = []\n",
    "P = []\n",
    "# X = list(np.random.normal(0,1,50000)) + list(np.random.normal(5,1,50000))\n",
    "X = list(np.random.poisson(1,50000)) + list(np.random.poisson(2,50000))\n",
    "for x in X :\n",
    "    l.push(x) \n",
    "    s.push(x)\n",
    "    mu = (l[ceil(len(l)/2) - 1] + l[floor(len(l)/2)])/2\n",
    "    below,_ = s.bisect_left(mu)\n",
    "    above,_ = s.bisect_right(mu)\n",
    "    above = len(s) - above\n",
    "    x = min(above,below)\n",
    "    R.append(above+below)\n",
    "    P.append(binom.pmf(x,above + below, 0.5))\n",
    "\n",
    "    \n",
    "\n"
   ]
  },
  {
   "cell_type": "code",
   "execution_count": 160,
   "id": "09e13eb4",
   "metadata": {},
   "outputs": [
    {
     "data": {
      "text/plain": [
       "[<matplotlib.lines.Line2D at 0x7fcf51bdf8e0>]"
      ]
     },
     "execution_count": 160,
     "metadata": {},
     "output_type": "execute_result"
    },
    {
     "data": {
      "image/png": "[encoded data removed]",
      "text/plain": [
       "<Figure size 432x288 with 1 Axes>"
      ]
     },
     "metadata": {
      "needs_background": "light"
     },
     "output_type": "display_data"
    }
   ],
   "source": [
    "plt.plot(P)"
   ]
  },
  {
   "cell_type": "code",
   "execution_count": 100,
   "id": "057e5294",
   "metadata": {},
   "outputs": [
    {
     "name": "stdout",
     "output_type": "stream",
     "text": [
      "(0, None)\n",
      "(0, None)\n",
      "(1, 2)\n",
      "(5, 2)\n"
     ]
    }
   ],
   "source": [
    "window = OSW(10)\n",
    "print(window.bisect_left(2))\n",
    "print(window.bisect_right(2))\n",
    "window.push(1)\n",
    "window.push(2)\n",
    "window.push(2)\n",
    "window.push(2)\n",
    "window.push(2)\n",
    "window.push(3)\n",
    "window.push(4)\n",
    "\n",
    "print(window.bisect_left(2))\n",
    "print(window.bisect_right(2))"
   ]
  },
  {
   "cell_type": "code",
   "execution_count": 107,
   "id": "f0befa0b",
   "metadata": {},
   "outputs": [
    {
     "data": {
      "text/plain": [
       "5"
      ]
     },
     "execution_count": 107,
     "metadata": {},
     "output_type": "execute_result"
    }
   ],
   "source": [
    "min(5,5)"
   ]
  }
 ],
 "metadata": {
  "kernelspec": {
   "display_name": "Python 3 (ipykernel)",
   "language": "python",
   "name": "python3"
  },
  "language_info": {
   "codemirror_mode": {
    "name": "ipython",
    "version": 3
   },
   "file_extension": ".py",
   "mimetype": "text/x-python",
   "name": "python",
   "nbconvert_exporter": "python",
   "pygments_lexer": "ipython3",
   "version": "3.9.9"
  }
 },
 "nbformat": 4,
 "nbformat_minor": 5
}
